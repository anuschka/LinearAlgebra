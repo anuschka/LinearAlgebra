{
 "cells": [
  {
   "cell_type": "code",
   "execution_count": 74,
   "metadata": {},
   "outputs": [],
   "source": [
    "from math import sqrt, acos, pi\n",
    "\n",
    "\n",
    "class Vector(object):\n",
    "    def __init__(self, coordinates):\n",
    "        try:\n",
    "            if not coordinates:\n",
    "                raise ValueError\n",
    "            self.coordinates = tuple(coordinates)\n",
    "            self.dimension = len(coordinates)\n",
    "\n",
    "        except ValueError:\n",
    "            raise ValueError('The coordinates must be nonempty')\n",
    "\n",
    "        except TypeError:\n",
    "            raise TypeError('The coordinates must be an iterable')\n",
    "            \n",
    "    def is_orthogonal_to(self, v, tolerance=1e-10):\n",
    "        return abs(self.dot(v)) < tolerance\n",
    "    \n",
    "    def is_parallel_to(self,v):\n",
    "        return ( self.is_zero() or\n",
    "               v.is_zero() or\n",
    "               self.angle_with(v) == 0 or\n",
    "               self.angle_with(v) == pi )\n",
    "    \n",
    "    def is_zero(self, tolerance=1e-10):\n",
    "        return self.magnitude() < tolerance\n",
    "            \n",
    "    \n",
    "    def dot(self, v):\n",
    "        return sum([x*y for x,y in zip(self.coordinates, v.coordinates)])\n",
    "    \n",
    "    def angle_with(self,v, in_degrees = False):\n",
    "        try:\n",
    "            u1 = self.normalized()\n",
    "            u2 = v.normalized()\n",
    "            angle_in_radians = acos(u1.dot(u2))\n",
    "            \n",
    "            if in_degrees:\n",
    "                degrees_per_radian = 180. / pi\n",
    "                return angle_in_radians * degrees_per_radian\n",
    "            else:\n",
    "                return angle_in_radians\n",
    "            \n",
    "        except Exception as e:\n",
    "            if str(e) == self.CANNOT_NORMALIZE_ZERO_VECTOR_MSG:\n",
    "                raise Exception('Cannot compute an angle with the zero vector')\n",
    "            else:\n",
    "                raise e\n",
    "            \n",
    "    \n",
    "    def magnitude(self):\n",
    "        coordinates_squared = [x**2 for x in self.coordinates]\n",
    "        return sqrt(sum(coordinates_squared))\n",
    "    \n",
    "    def normalized(self):\n",
    "        try:\n",
    "            magnitude = self.magnitude()\n",
    "            return self.times_scalar(1.0/magnitude)\n",
    "        except ZeroDivisionError:\n",
    "            raise Exception('Cannot normalize the zero vector')\n",
    "    \n",
    "    def plus(self, v):\n",
    "        newcoordinates = [x+y for x,y in zip(self.coordinates, v.coordinates)]\n",
    "        return Vector(newcoordinates)\n",
    "\n",
    "    def minus(self, v):\n",
    "        newcoordinates = [x-y for x,y in zip(self.coordinates, v.coordinates)]\n",
    "        return Vector(newcoordinates)\n",
    "\n",
    "    def times_scalar(self, c):\n",
    "        newcoordinates = [c*x for x in self.coordinates]\n",
    "        return Vector(newcoordinates)\n",
    "\n",
    "    def __str__(self):\n",
    "        return 'Vector: {}'.format(self.coordinates)\n",
    "\n",
    "\n",
    "    def __eq__(self, v):\n",
    "        return self.coordinates == v.coordinates"
   ]
  },
  {
   "cell_type": "markdown",
   "metadata": {},
   "source": [
    "Magnitude and direction"
   ]
  },
  {
   "cell_type": "code",
   "execution_count": 4,
   "metadata": {},
   "outputs": [],
   "source": [
    "vector = Vector([-0.211,7.437])"
   ]
  },
  {
   "cell_type": "code",
   "execution_count": 6,
   "metadata": {},
   "outputs": [
    {
     "name": "stdout",
     "output_type": "stream",
     "text": [
      "Magnitude is: 7.43999260752321\n"
     ]
    }
   ],
   "source": [
    "print(f'Magnitude is: {vector.magnitude()}')"
   ]
  },
  {
   "cell_type": "code",
   "execution_count": 60,
   "metadata": {},
   "outputs": [],
   "source": [
    "vector1 = Vector([5.581,-2.136])"
   ]
  },
  {
   "cell_type": "code",
   "execution_count": 61,
   "metadata": {},
   "outputs": [
    {
     "name": "stdout",
     "output_type": "stream",
     "text": [
      "Normalized vector1 is: Vector: (Decimal('0.933935214086640295130539147343'), Decimal('-0.357442325262329983594964055642'))\n"
     ]
    }
   ],
   "source": [
    "print(f'Normalized vector1 is: {vector1.normalized()}')"
   ]
  },
  {
   "cell_type": "markdown",
   "metadata": {},
   "source": [
    "Dot Product and Angle"
   ]
  },
  {
   "cell_type": "code",
   "execution_count": 48,
   "metadata": {},
   "outputs": [],
   "source": [
    "v = Vector([7.887,4.138])\n",
    "w = Vector([-8.802, 6.776])"
   ]
  },
  {
   "cell_type": "code",
   "execution_count": 49,
   "metadata": {},
   "outputs": [
    {
     "name": "stdout",
     "output_type": "stream",
     "text": [
      "Dot product is: -41.3822859999999945439839166283\n"
     ]
    }
   ],
   "source": [
    "print(f'Dot product is: {v.dot(w)}')"
   ]
  },
  {
   "cell_type": "code",
   "execution_count": 77,
   "metadata": {},
   "outputs": [],
   "source": [
    "v = Vector([3.183,-7.627])\n",
    "w = Vector([-2.668,5.319])"
   ]
  },
  {
   "cell_type": "code",
   "execution_count": 78,
   "metadata": {},
   "outputs": [
    {
     "name": "stdout",
     "output_type": "stream",
     "text": [
      "Angle between v and w in radians is: 3.072026309837249\n"
     ]
    }
   ],
   "source": [
    "print(f'Angle between v and w in radians is: {v.angle_with(w)}')"
   ]
  },
  {
   "cell_type": "code",
   "execution_count": 65,
   "metadata": {},
   "outputs": [],
   "source": [
    "v = Vector([7.35,0.221,5.188])\n",
    "w = Vector([2.751,8.259,3.985])"
   ]
  },
  {
   "cell_type": "code",
   "execution_count": 79,
   "metadata": {},
   "outputs": [
    {
     "name": "stdout",
     "output_type": "stream",
     "text": [
      "Angle between v and w in degrees: 176.01414210682293\n"
     ]
    }
   ],
   "source": [
    "print(f'Angle between v and w in degrees: {v.angle_with(w,True)}')"
   ]
  },
  {
   "cell_type": "markdown",
   "metadata": {},
   "source": [
    "Parallel or Orthogonal"
   ]
  },
  {
   "cell_type": "code",
   "execution_count": 80,
   "metadata": {},
   "outputs": [],
   "source": [
    "v = Vector([-7.579,-7.88])\n",
    "w = Vector([22.737,23.64])"
   ]
  },
  {
   "cell_type": "code",
   "execution_count": 83,
   "metadata": {},
   "outputs": [
    {
     "name": "stdout",
     "output_type": "stream",
     "text": [
      "Are vectors v and w orthogonal: False\n"
     ]
    }
   ],
   "source": [
    "print(f'Are vectors v and w orthogonal: {v.is_orthogonal_to(w)}')"
   ]
  },
  {
   "cell_type": "code",
   "execution_count": null,
   "metadata": {},
   "outputs": [],
   "source": []
  }
 ],
 "metadata": {
  "kernelspec": {
   "display_name": "Python 3",
   "language": "python",
   "name": "python3"
  },
  "language_info": {
   "codemirror_mode": {
    "name": "ipython",
    "version": 3
   },
   "file_extension": ".py",
   "mimetype": "text/x-python",
   "name": "python",
   "nbconvert_exporter": "python",
   "pygments_lexer": "ipython3",
   "version": "3.6.7"
  }
 },
 "nbformat": 4,
 "nbformat_minor": 2
}
